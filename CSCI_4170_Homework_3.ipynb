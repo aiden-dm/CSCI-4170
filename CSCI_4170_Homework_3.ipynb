{
  "cells": [
    {
      "cell_type": "markdown",
      "metadata": {
        "id": "view-in-github",
        "colab_type": "text"
      },
      "source": [
        "<a href=\"https://colab.research.google.com/github/aiden-dm/CSCI-4170/blob/main/CSCI_4170_Homework_3.ipynb\" target=\"_parent\"><img src=\"https://colab.research.google.com/assets/colab-badge.svg\" alt=\"Open In Colab\"/></a>"
      ]
    },
    {
      "cell_type": "markdown",
      "metadata": {
        "id": "8mh_6KzKjx5B"
      },
      "source": [
        "#**Projects in AI and ML - Homework 3**\n",
        "##**Aiden Drover-Mattinen**"
      ]
    },
    {
      "cell_type": "markdown",
      "metadata": {
        "id": "6X5HaYm0Ai76"
      },
      "source": [
        "# Part 1"
      ]
    },
    {
      "cell_type": "markdown",
      "metadata": {
        "id": "lUxeaceakedJ"
      },
      "source": [
        "For this assignment, I chose to tackle the classic problem of identifying handwritten digits from images using the MNIST database. This dataset includes 60,000 training samples and 10,000 test samples of size-normalized handwritten digits. I selected this well-known and relatively clean dataset because I wanted to focus on understanding how neural networks work, without getting bogged down by complex, messy data.\n",
        "\n",
        "This is my first experience working with neural networks, and I initially found them quite confusing. By choosing a straightforward problem, I aimed to simplify the learning process and build a strong foundational understanding. Additionally, since this is a computer vision problem, it complements the computer vision class I am currently taking at RPI. The skills I develop here will not only deepen my understanding of neural networks but also enhance my performance in that class.\n",
        "\n",
        "Link to dataset: https://www.kaggle.com/datasets/hojjatk/mnist-dataset"
      ]
    },
    {
      "cell_type": "markdown",
      "source": [
        "## Imports for code"
      ],
      "metadata": {
        "id": "eFIsYsXgCgCx"
      }
    },
    {
      "cell_type": "code",
      "execution_count": 1,
      "metadata": {
        "id": "_nR7KN2JRVis"
      },
      "outputs": [],
      "source": [
        "# Imports\n",
        "import numpy as np\n",
        "from keras.datasets import mnist\n",
        "import matplotlib.pyplot as plt\n",
        "from tensorflow.keras.utils import to_categorical\n",
        "import tensorflow as tf\n",
        "import pandas as pd\n",
        "from sklearn.model_selection import train_test_split\n",
        "from sklearn.metrics import classification_report"
      ]
    },
    {
      "cell_type": "markdown",
      "metadata": {
        "id": "LuT5SHoGnMjM"
      },
      "source": [
        "## Implementing a neural network from scratch"
      ]
    },
    {
      "cell_type": "markdown",
      "metadata": {
        "id": "D6JQlgl6nVtp"
      },
      "source": [
        "Conveniently, the MNIST dataset can be loaded directly from the Keras library as I've done below. It comes already divided into a training and a test set."
      ]
    },
    {
      "cell_type": "code",
      "execution_count": 2,
      "metadata": {
        "id": "qLY0lquJcndn"
      },
      "outputs": [],
      "source": [
        "# Loading MNIST dataset\n",
        "(train_X, train_y), (test_X, test_y) = mnist.load_data()"
      ]
    },
    {
      "cell_type": "markdown",
      "metadata": {
        "id": "bZ-IV7snomyF"
      },
      "source": [
        "Despite the data being relatively clean, some preprocessing was still necessary before using it in my neural network.\n",
        "\n",
        "First, I reshaped the data so that each example was represented as a single column vector, with the number of rows corresponding to the number of training examples. Since the images are normalized to 28x28 pixels, I flattened each one into a column vector of length 784, where each pixel serves as a feature in the model.\n",
        "\n",
        "Next, I normalized the pixel intensity values to a range between 0 and 1. As the images are in grayscale, dividing each pixel value by 255 achieved this normalization. Neural networks typically train more efficiently on normalized data.\n",
        "\n",
        "Lastly, I performed one-hot encoding on the target labels. This process transforms the labels into column vectors of length 10, filled with zeros except for a single one at the index corresponding to the digit label. For example, a label of 5 would be represented as:\n",
        "\n",
        "[0, 0, 0, 0, 0, 1, 0, 0, 0, 0].T\n",
        "\n",
        "I performed this one-hot encoding because the softmax activation function (which I will justify shortly) outputs probabilities across multiple classes, and one-hot encoding allows for a direct comparison between predicted outputs and true labels during model training.\n",
        "\n",
        "Sources:\n",
        " * https://medium.com/towards-data-science/why-data-should-be-normalized-before-training-a-neural-network-c626b7f66c7d"
      ]
    },
    {
      "cell_type": "code",
      "execution_count": 3,
      "metadata": {
        "colab": {
          "base_uri": "https://localhost:8080/"
        },
        "id": "tQVyFYCpc89_",
        "outputId": "0b37573a-8274-4435-bbf9-2e670c9f8f75"
      },
      "outputs": [
        {
          "output_type": "stream",
          "name": "stdout",
          "text": [
            "X_train: (784, 60000)\n",
            "Y_train: (10, 60000)\n",
            "X_test:  (784, 10000)\n",
            "Y_test:  (10, 10000)\n"
          ]
        }
      ],
      "source": [
        "# Ensure that the training data is in the shape (features, examples)\n",
        "train_X = train_X.reshape(train_X.shape[0], -1).T\n",
        "test_X = test_X.reshape(test_X.shape[0], -1).T\n",
        "\n",
        "# Normalize light intensities in grayscale image\n",
        "test_X = test_X / 255.0\n",
        "train_X = train_X / 255.0\n",
        "\n",
        "# Will use softmax, so y values will be one-hot encoded\n",
        "train_y = to_categorical(train_y, num_classes=10).T\n",
        "test_y = to_categorical(test_y, num_classes=10).T\n",
        "\n",
        "# Print out the shapes to confirm they are correct\n",
        "print('X_train: ' + str(train_X.shape))\n",
        "print('Y_train: ' + str(train_y.shape))\n",
        "print('X_test:  '  + str(test_X.shape))\n",
        "print('Y_test:  '  + str(test_y.shape))"
      ]
    },
    {
      "cell_type": "markdown",
      "metadata": {
        "id": "yQRRfoRtrUyJ"
      },
      "source": [
        "Next I had to select and define the activation functions to be used in my network. I used the ReLU (Rectified Linear Unit) activation function in the hidden layer and the softmax activation function in the output layer.\n",
        "\n",
        "ReLU is widely used because of its simplicity and effectiveness. It introduces non-linearity to the model, allowing it to learn complex patterns in the data. ReLU also helps mitigate the vanishing gradient problem, enabling faster and more efficient training by allowing gradients to propagate without diminishing quickly.\n",
        "\n",
        "Softmax is ideal for multi-class classification problems like digit recognition because it converts the raw output scores into probabilities that sum to 1. This makes it easier to interpret the model’s predictions, as each output node represents the likelihood of the input image corresponding to a particular digit.\n",
        "\n",
        "Sources:\n",
        "* https://builtin.com/machine-learning/relu-activation-function#:~:text=What%20is%20ReLU%20used%20for,more%20complex%20relationships%20in%20data.\n",
        "* https://www.analyticsvidhya.com/blog/2021/04/introduction-to-softmax-for-neural-network/"
      ]
    },
    {
      "cell_type": "code",
      "execution_count": 4,
      "metadata": {
        "id": "tll0Ff-NrWxh"
      },
      "outputs": [],
      "source": [
        "# Define the ReLU function\n",
        "def relu(x):\n",
        "    return np.maximum(0, x)\n",
        "\n",
        "# Define the derivative of the ReLU function to\n",
        "# be used in the backpropagation algorithm\n",
        "def relu_derivative(x):\n",
        "    return (x > 0).astype(float)\n",
        "\n",
        "# Define the softmax function\n",
        "def softmax(x):\n",
        "    exp_x = np.exp(x - np.max(x, axis=0, keepdims=True))\n",
        "    return exp_x / np.sum(exp_x, axis=0, keepdims=True)"
      ]
    },
    {
      "cell_type": "markdown",
      "metadata": {
        "id": "MF1htZJetFAm"
      },
      "source": [
        "My next step was to write the neural network class. I implemented a network with a single hidden layer as it made the implementation more simple. The following is justification for the decisions to use He initialization for my weights, using mini-batch gradient descent, and using the Adam optimizer.\n",
        "\n",
        "**He Initialization**:\n",
        "He initialization was used to improve the performance of ReLU activation functions. By scaling weights with $\\sqrt{\\frac{2}{\\text{input size}}}$, it maintains variance through layers, preventing vanishing or exploding gradients, and facilitating faster convergence.\n",
        "\n",
        "**Mini-Batch Gradient Descent**:\n",
        "Mini-batch gradient descent balances efficiency and stability. It processes subsets of data, reducing memory load and providing faster updates than full-batch, while introducing enough noise to help escape local minima compared to stochastic gradient descent. I hoped that this strategy would overcome any inefficiencies of writing the neural network myself.\n",
        "\n",
        "**Adam Optimizer**:\n",
        "The Adam optimizer combines momentum and adaptive learning rates, enabling efficient, stable convergence.\n",
        "\n",
        "For my loss function, I chose **categorical cross entropy** because it is well-suited for multi-class classification tasks where the target labels are one-hot encoded. The categorical cross-entropy loss function effectively measures the discrepancy between the predicted probability distribution and the actual distribution of these one-hot encoded labels, facilitating efficient training of the neural network.\n",
        "\n",
        "Sources:\n",
        "* https://medium.com/@shauryagoel/kaiming-he-initialization-a8d9ed0b5899\n",
        "* https://www.geeksforgeeks.org/adam-optimizer/\n",
        "* https://medium.com/@shireenchand/choosing-between-cross-entropy-and-sparse-cross-entropy-the-only-guide-you-need-abea92c84662"
      ]
    },
    {
      "cell_type": "code",
      "execution_count": 5,
      "metadata": {
        "id": "ImUXHGS4Ulre"
      },
      "outputs": [],
      "source": [
        "# Create the neural network class\n",
        "class NeuralNetwork:\n",
        "    def __init__(self, input_size, hidden_size, output_size, learning_rate=0.001):\n",
        "        # Initialize biases\n",
        "        self.b1 = np.zeros((hidden_size, 1))\n",
        "        self.b2 = np.zeros((output_size, 1))\n",
        "\n",
        "        # He initialization for weights for better ReLU performance\n",
        "        self.W1 = np.random.randn(hidden_size, input_size) * np.sqrt(2. / input_size)\n",
        "        self.W2 = np.random.randn(output_size, hidden_size) * np.sqrt(2. / hidden_size)\n",
        "\n",
        "        # Adam optimizer parameters\n",
        "        self.learning_rate = learning_rate\n",
        "        self.beta1 = 0.9\n",
        "        self.beta2 = 0.999\n",
        "        self.epsilon = 1e-8\n",
        "\n",
        "        # Initialize momentum values\n",
        "        self.m_W1 = np.zeros_like(self.W1)\n",
        "        self.m_b1 = np.zeros_like(self.b1)\n",
        "        self.m_W2 = np.zeros_like(self.W2)\n",
        "        self.m_b2 = np.zeros_like(self.b2)\n",
        "\n",
        "        # Initialize velocity values\n",
        "        self.v_W1 = np.zeros_like(self.W1)\n",
        "        self.v_b1 = np.zeros_like(self.b1)\n",
        "        self.v_W2 = np.zeros_like(self.W2)\n",
        "        self.v_b2 = np.zeros_like(self.b2)\n",
        "\n",
        "    # Forward propagation function\n",
        "    def forward_propagation(self, X):\n",
        "        # Create linear combination and apply ReLU for hidden layer\n",
        "        self.Z1 = np.dot(self.W1, X) + self.b1\n",
        "        self.A1 = relu(self.Z1)\n",
        "\n",
        "        # Create linear combination and apply softmax for output layer\n",
        "        self.Z2 = np.dot(self.W2, self.A1) + self.b2\n",
        "        self.A2 = softmax(self.Z2)\n",
        "\n",
        "        return self.A2\n",
        "\n",
        "    # Define the loss function (categorical cross entropy for this case)\n",
        "    def categorical_cross_entropy(self, y_true, y_pred):\n",
        "        # Small value added to avoid log(0)\n",
        "        epsilon = 1e-12\n",
        "        y_pred = np.clip(y_pred, epsilon, 1. - epsilon)\n",
        "\n",
        "        # Compute cross-entropy loss\n",
        "        loss = -np.sum(y_true * np.log(y_pred)) / y_true.shape[1]\n",
        "        return loss\n",
        "\n",
        "    # Backward propagation function\n",
        "    def backward_propagation(self, X, Y, Y_hat):\n",
        "        # Get the number of samples\n",
        "        m = X.shape[1]\n",
        "\n",
        "        # Calculate derivatives for output layer\n",
        "        dZ2 = Y_hat - Y\n",
        "        dW2 = np.dot(dZ2, self.A1.T) / m\n",
        "        db2 = np.sum(dZ2, axis=1, keepdims=True) / m\n",
        "\n",
        "        # Calculate derivatives for hidden layer\n",
        "        dZ1 = (np.dot(self.W2.T, dZ2) * relu_derivative(self.Z1))\n",
        "        dW1 = np.dot(dZ1, X.T) / m\n",
        "        db1 = np.sum(dZ1, axis=1, keepdims=True) / m\n",
        "\n",
        "        # Return all derivatives (gradients)\n",
        "        return dW1, db1, dW2, db2\n",
        "\n",
        "    # Adam optimizer update\n",
        "    def adam_optimizer(self, dW1, db1, dW2, db2):\n",
        "\n",
        "        # Store gradients and corresponding moment and velocity references\n",
        "        gradients = [dW1, db1, dW2, db2]\n",
        "        moments = [self.m_W1, self.m_b1, self.m_W2, self.m_b2]\n",
        "        velocities = [self.v_W1, self.v_b1, self.v_W2, self.v_b2]\n",
        "        parameters = [self.W1, self.b1, self.W2, self.b2]\n",
        "\n",
        "        # Update moment and velocity estimates\n",
        "        for i in range(len(gradients)):\n",
        "            moments[i] = self.beta1 * moments[i] + (1 - self.beta1) * gradients[i]\n",
        "            velocities[i] = self.beta2 * velocities[i] + (1 - self.beta2) * (gradients[i] ** 2)\n",
        "\n",
        "        # Bias corrections for moments and velocities\n",
        "        m_hats = [m / (1 - self.beta1) for m in moments]\n",
        "        v_hats = [v / (1 - self.beta2) for v in velocities]\n",
        "\n",
        "        # Update parameters using corrected estimates\n",
        "        for i in range(len(parameters)):\n",
        "            parameters[i] -= self.learning_rate * m_hats[i] / (np.sqrt(v_hats[i]) + self.epsilon)\n",
        "\n",
        "        # Update class attributes to maintain state across iterations\n",
        "        self.m_W1, self.m_b1, self.m_W2, self.m_b2 = moments\n",
        "        self.v_W1, self.v_b1, self.v_W2, self.v_b2 = velocities\n",
        "        self.W1, self.b1, self.W2, self.b2 = parameters\n",
        "\n",
        "    # Gradient descent function\n",
        "    def train(self, X_train, Y_train, X_test, Y_test, epochs=10, batch_size=64):\n",
        "\n",
        "        for epoch in range(epochs):\n",
        "        # Shuffle training data for better generalization\n",
        "          num_batches = X_train.shape[1] // batch_size\n",
        "\n",
        "          for batch in range(num_batches):\n",
        "              # Get mini-batch of training data\n",
        "              start = batch * batch_size\n",
        "              end = (batch + 1) * batch_size\n",
        "              X_batch = X_train[:, start:end]\n",
        "              Y_batch = Y_train[:, start:end]\n",
        "\n",
        "              # Perform forward propagation\n",
        "              Y_hat = self.forward_propagation(X_batch)\n",
        "\n",
        "              # Calculate loss with mini-batch\n",
        "              loss = self.categorical_cross_entropy(Y_batch, Y_hat)\n",
        "\n",
        "              # Backward propagation to get gradients\n",
        "              dW1, db1, dW2, db2 = self.backward_propagation(X_batch, Y_batch, Y_hat)\n",
        "\n",
        "              # Update parameters with Adam optimizer\n",
        "              self.adam_optimizer(dW1, db1, dW2, db2)\n",
        "\n",
        "          # Calculate accuracy for current epoch\n",
        "          Y_pred = self.predict(X_test)\n",
        "          Y_actual = np.argmax(Y_test, axis=0)\n",
        "          accuracy = np.mean(Y_pred == Y_actual) * 100\n",
        "\n",
        "          # Print the loss and accuracy at the end of each epoch\n",
        "          print(f\"Epoch {epoch}, Loss: {loss}, Accuracy: {accuracy:.2f}%\")\n",
        "\n",
        "\n",
        "    # Function that gets the predictions for the model on inputted data\n",
        "    def predict(self, X):\n",
        "        return np.argmax(self.forward_propagation(X), axis=0)"
      ]
    },
    {
      "cell_type": "markdown",
      "metadata": {
        "id": "s48C_1kovgpb"
      },
      "source": [
        "To verify that my model was working correctly, I assigned the input parameters to variables, created a NeuralNetwork object, and trained it on the training set. I determined the hidden layer size and learning rate through trial and error during debugging, which resulted in good performance and kept the training time reasonable. I ran the model for 15 epochs to allow sufficient time for convergence and printed the loss and accuracy at each epoch to monitor its progress in real time."
      ]
    },
    {
      "cell_type": "code",
      "execution_count": 6,
      "metadata": {
        "colab": {
          "base_uri": "https://localhost:8080/"
        },
        "id": "swiHVafIeSIJ",
        "outputId": "6c843e45-990a-40cf-ab27-28e65b542bb8"
      },
      "outputs": [
        {
          "output_type": "stream",
          "name": "stdout",
          "text": [
            "Epoch 0, Loss: 0.3547616778608269, Accuracy: 94.46%\n",
            "Epoch 1, Loss: 0.32725486594891884, Accuracy: 95.56%\n",
            "Epoch 2, Loss: 0.31266779973693426, Accuracy: 96.16%\n",
            "Epoch 3, Loss: 0.3001264506697317, Accuracy: 96.52%\n",
            "Epoch 4, Loss: 0.28867739800733405, Accuracy: 96.86%\n",
            "Epoch 5, Loss: 0.2792358683392269, Accuracy: 97.02%\n",
            "Epoch 6, Loss: 0.2709056031416237, Accuracy: 97.13%\n",
            "Epoch 7, Loss: 0.2633955994250666, Accuracy: 97.19%\n",
            "Epoch 8, Loss: 0.2533194470871217, Accuracy: 97.29%\n",
            "Epoch 9, Loss: 0.24417237831647562, Accuracy: 97.35%\n",
            "Epoch 10, Loss: 0.2343513580678401, Accuracy: 97.45%\n",
            "Epoch 11, Loss: 0.22455291097411886, Accuracy: 97.52%\n",
            "Epoch 12, Loss: 0.215267781916624, Accuracy: 97.59%\n",
            "Epoch 13, Loss: 0.2053334018259039, Accuracy: 97.63%\n",
            "Epoch 14, Loss: 0.196132603738197, Accuracy: 97.62%\n"
          ]
        }
      ],
      "source": [
        "# Parameters\n",
        "input_size = 784       # For MNIST (28x28 images)\n",
        "hidden_size = 128      # First hidden layer neurons\n",
        "output_size = 10       # Number of output classes (digits 0-9)\n",
        "learning_rate = 0.001  # Learning rate for Adam optimizer\n",
        "\n",
        "# Initialize the neural network\n",
        "nn = NeuralNetwork(input_size, hidden_size, output_size, learning_rate)\n",
        "\n",
        "# Training parameters\n",
        "epochs = 15            # More epochs for better convergence\n",
        "batch_size = 64        # Mini-batch size\n",
        "\n",
        "# Train the model\n",
        "nn.train(train_X, train_y, test_X, test_y, epochs=epochs, batch_size=batch_size)\n"
      ]
    },
    {
      "cell_type": "markdown",
      "metadata": {
        "id": "AKV6ujr6zW1w"
      },
      "source": [
        "In the following code, I demonstrate that my trained model achieves a high accuracy score on the test data using my predict() function."
      ]
    },
    {
      "cell_type": "code",
      "execution_count": 7,
      "metadata": {
        "colab": {
          "base_uri": "https://localhost:8080/"
        },
        "id": "Cuyiw__qzkkN",
        "outputId": "3530c343-5601-4e45-90c6-6de2427b6927"
      },
      "outputs": [
        {
          "output_type": "stream",
          "name": "stdout",
          "text": [
            "Predictions: [7 2 1 ... 4 5 6]\n",
            "Actual: [7 2 1 ... 4 5 6]\n",
            "Accuracy: 97.61999999999999%\n"
          ]
        }
      ],
      "source": [
        "# Generating predictions for the test set\n",
        "predictions = nn.predict(test_X)\n",
        "actual = np.argmax(test_y, axis=0)\n",
        "accuracy = np.mean(predictions == actual) * 100\n",
        "\n",
        "# Printing the predictions side by side and the accuracy\n",
        "print(\"Predictions:\", predictions)\n",
        "print(\"Actual:\", actual)\n",
        "print(f\"Accuracy: {accuracy}%\")"
      ]
    },
    {
      "cell_type": "markdown",
      "metadata": {
        "id": "QNr54ZanAmIc"
      },
      "source": [
        "# Part 2"
      ]
    },
    {
      "cell_type": "markdown",
      "metadata": {
        "id": "UN_DP5rk0ffm"
      },
      "source": [
        "## Task 1: Materials Used"
      ]
    },
    {
      "cell_type": "markdown",
      "metadata": {
        "id": "t9JN7iWt0rKJ"
      },
      "source": [
        "I chose to use TensorFlow as my deep learning library to implement my two-hidden-layer neural network because it is a widely recognized framework with easy-to-use functions for creating, training, and testing models.\n",
        "\n",
        "The first resource I used was the official documentation on \"The Sequential Model\" from TensorFlow. This mini-tutorial explains how to create a neural network using the Sequential model, which is \"appropriate for a plain stack of layers where each layer has exactly one input tensor and one output tensor.\" This approach perfectly fits the needs of my project. Additionally, it introduced me to Keras, TensorFlow's high-level API that dramatically simplifies the syntax and makes building neural networks approachable. Essentially, you create a model object, define the neuron layers (specifying the number of layers and their activation functions), compile the model by choosing an optimizer and a loss function, and then train and optimize the model using straightforward function calls.\n",
        "\n",
        "Source: https://www.tensorflow.org/guide/keras/sequential_model\n",
        "\n",
        "The next resource I used was also from the official TensorFlow documentation. It provides in-depth examples on how to train and evaluate a neural network using functions like .fit() and .evaluate(). It also describes .predict(), which performs a forward propagation step to generate predictions without updating any model weights.\n",
        "\n",
        "Source: https://www.tensorflow.org/guide/keras/training_with_built_in_methods\n",
        "\n",
        "Another valuable resource was the official TensorFlow documentation on optimizers. I referred to this to understand how to implement and compare the performance of different optimizers—Momentum, RMSProp, and Adam—in my experiments.\n",
        "\n",
        "Source: https://keras.io/api/optimizers/\n",
        "\n",
        "The final resource I used extensively was the sklearn documentation. Although TensorFlow's .evaluate() function provides basic performance measures, I wanted more detailed metrics. Sklearn's classification report computes and presents accuracy, precision, recall, and F1-score in an easy-to-digest table, which was extremely useful for displaying the results of my hyperparameter experiments.\n",
        "\n",
        "Source: https://scikit-learn.org/stable/modules/generated/sklearn.metrics.classification_report.html\n"
      ]
    },
    {
      "cell_type": "markdown",
      "metadata": {
        "id": "i6zij3OS1124"
      },
      "source": [
        "## Task 2: Implementing 2 Hidden-Layer Neural Network"
      ]
    },
    {
      "cell_type": "markdown",
      "metadata": {
        "id": "Hsa8SaNQ13oC"
      },
      "source": [
        "### Exploratory Data Analysis"
      ]
    },
    {
      "cell_type": "markdown",
      "metadata": {
        "id": "GyjaVa7a3Meq"
      },
      "source": [
        "As done earlier, we will be importing the MNIST database as follows:"
      ]
    },
    {
      "cell_type": "code",
      "execution_count": 8,
      "metadata": {
        "id": "qPB3hlWK3axv"
      },
      "outputs": [],
      "source": [
        "# Loading MNIST dataset\n",
        "(train_X, train_y), (test_X, test_y) = mnist.load_data()"
      ]
    },
    {
      "cell_type": "markdown",
      "metadata": {
        "id": "-VCyaHCm3bOM"
      },
      "source": [
        "To get a better feel for the data, we can print out the shapes of the training and test sets."
      ]
    },
    {
      "cell_type": "code",
      "execution_count": 9,
      "metadata": {
        "colab": {
          "base_uri": "https://localhost:8080/"
        },
        "id": "QspUTIJP3ejI",
        "outputId": "b5a35898-133d-45e4-a238-fb74b405c668"
      },
      "outputs": [
        {
          "output_type": "stream",
          "name": "stdout",
          "text": [
            "Training data shape: (60000, 28, 28)\n",
            "Test data shape: (10000, 28, 28)\n",
            "Training labels shape: (60000,)\n",
            "Test labels shape: (10000,)\n"
          ]
        }
      ],
      "source": [
        "# Printing data shapes\n",
        "print(f\"Training data shape: {train_X.shape}\")\n",
        "print(f\"Test data shape: {test_X.shape}\")\n",
        "print(f\"Training labels shape: {train_y.shape}\")\n",
        "print(f\"Test labels shape: {test_y.shape}\")"
      ]
    },
    {
      "cell_type": "markdown",
      "metadata": {
        "id": "Uq-OQI1V3sbK"
      },
      "source": [
        "Conveniently, MNIST does not contain any missing values, making preprocessing very simple. We can confirm that there are no missing values as follows:"
      ]
    },
    {
      "cell_type": "code",
      "execution_count": 10,
      "metadata": {
        "colab": {
          "base_uri": "https://localhost:8080/"
        },
        "id": "NG0wsPBH3zZ7",
        "outputId": "505a644b-035f-462c-e5dd-eb9fa0e05fe6"
      },
      "outputs": [
        {
          "output_type": "stream",
          "name": "stdout",
          "text": [
            "Any missing values? 0\n"
          ]
        }
      ],
      "source": [
        "# Checking if there are any missing values\n",
        "print(f\"Any missing values? {np.isnan(train_X).sum()}\")"
      ]
    },
    {
      "cell_type": "markdown",
      "metadata": {
        "id": "ymaxkY9L4OCF"
      },
      "source": [
        "To better understand what the model will be training on, we should print some of the test images to see what they look like. According to the data shape, they should be 28x28 pixels. We also know that they should be grayscale images. We can confirm this using matplotlib as shown below:"
      ]
    },
    {
      "cell_type": "code",
      "execution_count": 11,
      "metadata": {
        "colab": {
          "base_uri": "https://localhost:8080/",
          "height": 402
        },
        "id": "Nnc4PiVl4i8l",
        "outputId": "4a792efe-219d-4fa6-f7c4-019cca59e97b"
      },
      "outputs": [
        {
          "output_type": "display_data",
          "data": {
            "text/plain": [
              "<Figure size 1000x500 with 10 Axes>"
            ],
            "image/png": "[encoded data removed]"
          },
          "metadata": {}
        }
      ],
      "source": [
        "# Plotting a few test images using matplotlib\n",
        "plt.figure(figsize=(10, 5))\n",
        "for i in range(10):\n",
        "    plt.subplot(2, 5, i + 1)\n",
        "    plt.imshow(train_X[i].reshape(28, 28), cmap='gray')\n",
        "    plt.title(f\"Label: {train_y[i]}\")\n",
        "    plt.axis('off')\n",
        "plt.show()\n"
      ]
    },
    {
      "cell_type": "markdown",
      "metadata": {
        "id": "mkUVmzqF4vN_"
      },
      "source": [
        "We can also check the distribution of the labels. This is important as it can reveal if there is any bias in the data with certain labels being overrepresented. We can do this using a histogram as performed below:"
      ]
    },
    {
      "cell_type": "code",
      "execution_count": 12,
      "metadata": {
        "colab": {
          "base_uri": "https://localhost:8080/",
          "height": 564
        },
        "id": "B9_RWFre5Enh",
        "outputId": "a42ad4b9-a1a9-4eb3-e3eb-2c4e130ccf67"
      },
      "outputs": [
        {
          "output_type": "display_data",
          "data": {
            "text/plain": [
              "<Figure size 800x600 with 1 Axes>"
            ],
            "image/png": "[encoded data removed]"
          },
          "metadata": {}
        }
      ],
      "source": [
        "plt.figure(figsize=(8,6))\n",
        "plt.hist(train_y, bins=np.arange(11)-0.5, edgecolor='black', rwidth=0.8)\n",
        "plt.xlabel('Digit')\n",
        "plt.ylabel('Frequency')\n",
        "plt.title('Distribution of Digit Labels')\n",
        "plt.xticks(range(10))\n",
        "plt.show()"
      ]
    },
    {
      "cell_type": "markdown",
      "source": [
        "It can be seen that the distribution of digit labels is relatively balanced. As a result, I do not think that it is necessary to add/remove examples to/from the dataset."
      ],
      "metadata": {
        "id": "GZSkFUJV5xMe"
      }
    },
    {
      "cell_type": "markdown",
      "metadata": {
        "id": "Si03bBJG5hg7"
      },
      "source": [
        "Next, we can analyze the pixel intensity values of the image. This can be done using a histogram to visualize the distribution of the intensity values across the training set."
      ]
    },
    {
      "cell_type": "code",
      "execution_count": 13,
      "metadata": {
        "colab": {
          "base_uri": "https://localhost:8080/",
          "height": 904
        },
        "id": "RfpEw40H59xr",
        "outputId": "f67b1adc-fa9b-437f-df38-83a4b360dfad"
      },
      "outputs": [
        {
          "output_type": "stream",
          "name": "stdout",
          "text": [
            "Pixel value range: 0 to 255\n"
          ]
        },
        {
          "output_type": "display_data",
          "data": {
            "text/plain": [
              "<Figure size 640x480 with 1 Axes>"
            ],
            "image/png": "[encoded data removed]"
          },
          "metadata": {}
        },
        {
          "output_type": "display_data",
          "data": {
            "text/plain": [
              "<Figure size 640x480 with 1 Axes>"
            ],
            "image/png": "[encoded data removed]"
          },
          "metadata": {}
        }
      ],
      "source": [
        "# Print the min and max pixel intensity values\n",
        "print(f\"Pixel value range: {train_X.min()} to {train_X.max()}\")\n",
        "\n",
        "# Flatten the test images to get array of intensity values\n",
        "intensity_values = train_X.flatten()\n",
        "\n",
        "# Create a histogram showing the distribution of pixel intensities\n",
        "plt.hist(intensity_values, bins=256, range=(0, 255), fc='black', ec='black')\n",
        "plt.title('Pixel Intensity Distribution')\n",
        "plt.show()\n",
        "\n",
        "# Remove the 0 values from the array then print the histogram again\n",
        "intensity_values = intensity_values[intensity_values != 0]\n",
        "plt.hist(intensity_values, bins=256, range=(0, 255), fc='black', ec='black')\n",
        "plt.title('Pixel Intensity Distribution (Excluding Intensity 0)')\n",
        "plt.show()"
      ]
    },
    {
      "cell_type": "markdown",
      "metadata": {
        "id": "KMFHQSz18isV"
      },
      "source": [
        "The first histogram clearly shows that most pixel intensities in the dataset are 0, which obscures the distribution of the remaining values. To better visualize the non-zero data, I created a second histogram that excludes the 0 values. This revised plot reveals that most of the positive intensity values are clustered near the maximum value of 255, indicating that the pixel intensities are almost binary—predominantly at the lower bound (0) or near the upper bound (255)."
      ]
    },
    {
      "cell_type": "markdown",
      "metadata": {
        "id": "SO91slwr6Gq4"
      },
      "source": [
        "Lastly, we can check if there are any duplicate images in the training set. We can do this using a DataFrame from the pandas library. It can be seen that there are no duplicates, again making preprocessing very easy."
      ]
    },
    {
      "cell_type": "code",
      "execution_count": 14,
      "metadata": {
        "colab": {
          "base_uri": "https://localhost:8080/"
        },
        "id": "YZdIm3Zm6Vxt",
        "outputId": "7ba9d58c-6d5b-4e90-a54d-ffeffe5a8050"
      },
      "outputs": [
        {
          "output_type": "stream",
          "name": "stdout",
          "text": [
            "Number of duplicate images: 0\n"
          ]
        }
      ],
      "source": [
        "duplicates = pd.DataFrame(train_X.reshape(train_X.shape[0], -1)).duplicated().sum()\n",
        "print(f\"Number of duplicate images: {duplicates}\")"
      ]
    },
    {
      "cell_type": "markdown",
      "metadata": {
        "id": "gYP-deL0182M"
      },
      "source": [
        "### Performing a Train-Dev-Test Split"
      ]
    },
    {
      "cell_type": "markdown",
      "metadata": {
        "id": "l5xjY0du_NJU"
      },
      "source": [
        "Since the MNIST dataset already comes with predefined training and test sets, the remaining step is to carve out a portion of the training data to serve as a development (dev) set. I allocated 15% of the training set for this purpose, resulting in a dev set of 9,000 examples, which is comparable in size to the test set. This dev set will be used to fine-tune hyperparameters and evaluate model performance before final testing."
      ]
    },
    {
      "cell_type": "code",
      "execution_count": 15,
      "metadata": {
        "colab": {
          "base_uri": "https://localhost:8080/"
        },
        "id": "S4s2Oq-S92W4",
        "outputId": "517580f7-3f2a-416b-89ec-958bfabf164d"
      },
      "outputs": [
        {
          "output_type": "stream",
          "name": "stdout",
          "text": [
            "Dataset Shapes:\n",
            "Training SetX: (51000, 28, 28)\n",
            "Training SetY: (51000,)\n",
            "Dev SetX: (9000, 28, 28)\n",
            "Dev SetY: (9000,)\n",
            "Test SetX: (10000, 28, 28)\n",
            "Test SetY: (10000,)\n"
          ]
        }
      ],
      "source": [
        "# Splitting the training data into training and dev\n",
        "train_X_split, dev_X, train_y_split, dev_y = train_test_split(train_X, train_y, test_size=0.15, random_state=42)\n",
        "\n",
        "# Print the shapes of all the datasets\n",
        "print(\"Dataset Shapes:\")\n",
        "print(f\"Training SetX: {train_X_split.shape}\")\n",
        "print(f\"Training SetY: {train_y_split.shape}\")\n",
        "print(f\"Dev SetX: {dev_X.shape}\")\n",
        "print(f\"Dev SetY: {dev_y.shape}\")\n",
        "print(f\"Test SetX: {test_X.shape}\")\n",
        "print(f\"Test SetY: {test_y.shape}\")"
      ]
    },
    {
      "cell_type": "markdown",
      "metadata": {
        "id": "QBILXqPOC6PU"
      },
      "source": [
        "Like in Part 1, I also want collapse the 28x28 test images into 784 vectors to be used in the neural network. This is done as follows:"
      ]
    },
    {
      "cell_type": "code",
      "execution_count": 16,
      "metadata": {
        "colab": {
          "base_uri": "https://localhost:8080/"
        },
        "id": "fb0FSCCsDGEX",
        "outputId": "da896274-6ef3-4d55-f313-95813dcf2fd5"
      },
      "outputs": [
        {
          "output_type": "stream",
          "name": "stdout",
          "text": [
            "X_train: (51000, 784)\n",
            "X_test:  (10000, 784)\n",
            "X_dev:  (9000, 784)\n"
          ]
        }
      ],
      "source": [
        "# Ensure that the training data is in the shape (features, examples)\n",
        "train_X_split = train_X_split.reshape(train_X_split.shape[0], -1)\n",
        "test_X = test_X.reshape(test_X.shape[0], -1)\n",
        "dev_X = dev_X.reshape(dev_X.shape[0], -1)\n",
        "\n",
        "# Print the shapes to confirm\n",
        "print('X_train: ' + str(train_X_split.shape))\n",
        "print('X_test:  '  + str(test_X.shape))\n",
        "print('X_dev:  '  + str(dev_X.shape))"
      ]
    },
    {
      "cell_type": "markdown",
      "metadata": {
        "id": "YcLNz5Zd2ARt"
      },
      "source": [
        "### Implementing Forward Propagation"
      ]
    },
    {
      "cell_type": "markdown",
      "metadata": {
        "id": "nb2UCkRFBG7X"
      },
      "source": [
        "The next step is to implement forward propagation. Rather than building the neural network from scratch, I will use TensorFlow, a widely recognized deep learning framework. Additionally, I will utilize Keras, TensorFlow's high-level API, which simplifies syntax and enhances readability."
      ]
    },
    {
      "cell_type": "code",
      "execution_count": 17,
      "metadata": {
        "id": "PkF7PlzxAipw"
      },
      "outputs": [],
      "source": [
        "# Define the shape of the model\n",
        "input_shape = (train_X_split.shape[1],)\n",
        "\n",
        "# Creating the neural network model with TensorFlow\n",
        "model = tf.keras.Sequential([\n",
        "    tf.keras.Input(shape=input_shape),\n",
        "    tf.keras.layers.Dense(units=64, activation='relu'),\n",
        "    tf.keras.layers.Dense(units=64, activation='relu'),\n",
        "    tf.keras.layers.Dense(units=10, activation='softmax')\n",
        "])\n",
        "\n",
        "# Compile the Adam optimizer into the network\n",
        "model.compile(optimizer='adam', loss='sparse_categorical_crossentropy', metrics=['accuracy'])"
      ]
    },
    {
      "cell_type": "markdown",
      "metadata": {
        "id": "X6HOZMerB9D-"
      },
      "source": [
        "The above code defines and compiles a neural network model. The model is sequential, consisting of two hidden layers with 64 neurons each, using the ReLU activation function, followed by an output layer with 10 neurons and a softmax activation to classify the MNIST digits. The input shape is based on the dimensions of the training data. The model is compiled with the Adam optimizer, using sparse categorical crossentropy as the loss function, and accuracy as the evaluation metric.\n",
        "\n",
        "I chose to use ReLU, softmax, and adam for the same reasons that I used them for Part 1, as summarized below:\n",
        "* ReLU is used because it introduces non-linearity, enabling the model to learn complex patterns and mitigating the vanishing gradient problem for faster training.\n",
        "* Softmax is ideal for multi-class classification as it converts output scores into probabilities, simplifying interpretation of predictions.\n",
        "* The Adam optimizer was chosen for its adaptive learning rate and efficient performance, leading to faster convergence.\n",
        "\n",
        "I switched to the sparse categorical cross-entropy loss function for my MNIST classification neural network because it is ideal for multi-class classification tasks where labels are integers instead of one-hot encoded vectors. In the MNIST dataset, each image is labeled with an integer from 0 to 9. This loss function directly compares the model's predicted probabilities with these integer labels, simplifying the implementation by removing the need to convert labels into one-hot encoded format.\n",
        "\n",
        "Source:\n",
        "* https://medium.com/@shireenchand/choosing-between-cross-entropy-and-sparse-cross-entropy-the-only-guide-you-need-abea92c84662\n",
        "\n",
        "With the model created, I can now perform forward propagation using the following code. We can do some investigation by printing out performance metrics for the untrained model:"
      ]
    },
    {
      "cell_type": "code",
      "execution_count": 18,
      "metadata": {
        "colab": {
          "base_uri": "https://localhost:8080/"
        },
        "id": "JXf3s5bbFK6K",
        "outputId": "b0dc7f1f-18af-4bca-8a23-5b8710942c47"
      },
      "outputs": [
        {
          "output_type": "stream",
          "name": "stdout",
          "text": [
            "\u001b[1m282/282\u001b[0m \u001b[32m━━━━━━━━━━━━━━━━━━━━\u001b[0m\u001b[37m\u001b[0m \u001b[1m1s\u001b[0m 2ms/step\n",
            "Classification Report:\n",
            "              precision    recall  f1-score   support\n",
            "\n",
            "           0       0.14      0.03      0.05       891\n",
            "           1       0.12      0.98      0.21       991\n",
            "           2       0.00      0.00      0.00       896\n",
            "           3       0.05      0.01      0.02       904\n",
            "           4       0.06      0.00      0.01       872\n",
            "           5       0.03      0.01      0.01       827\n",
            "           6       0.00      0.00      0.00       878\n",
            "           7       0.00      0.00      0.00       963\n",
            "           8       0.12      0.01      0.02       865\n",
            "           9       0.12      0.00      0.00       913\n",
            "\n",
            "    accuracy                           0.11      9000\n",
            "   macro avg       0.07      0.10      0.03      9000\n",
            "weighted avg       0.07      0.11      0.03      9000\n",
            "\n"
          ]
        },
        {
          "output_type": "stream",
          "name": "stderr",
          "text": [
            "/usr/local/lib/python3.11/dist-packages/sklearn/metrics/_classification.py:1565: UndefinedMetricWarning: Precision is ill-defined and being set to 0.0 in labels with no predicted samples. Use `zero_division` parameter to control this behavior.\n",
            "  _warn_prf(average, modifier, f\"{metric.capitalize()} is\", len(result))\n",
            "/usr/local/lib/python3.11/dist-packages/sklearn/metrics/_classification.py:1565: UndefinedMetricWarning: Precision is ill-defined and being set to 0.0 in labels with no predicted samples. Use `zero_division` parameter to control this behavior.\n",
            "  _warn_prf(average, modifier, f\"{metric.capitalize()} is\", len(result))\n",
            "/usr/local/lib/python3.11/dist-packages/sklearn/metrics/_classification.py:1565: UndefinedMetricWarning: Precision is ill-defined and being set to 0.0 in labels with no predicted samples. Use `zero_division` parameter to control this behavior.\n",
            "  _warn_prf(average, modifier, f\"{metric.capitalize()} is\", len(result))\n"
          ]
        }
      ],
      "source": [
        "# Get predictions\n",
        "predictions = model.predict(dev_X)\n",
        "predicted_classes = predictions.argmax(axis=1)\n",
        "\n",
        "# Detailed classification report\n",
        "print(\"Classification Report:\")\n",
        "print(classification_report(dev_y, predicted_classes))"
      ]
    },
    {
      "cell_type": "markdown",
      "metadata": {
        "id": "BLPkzGsRIdn2"
      },
      "source": [
        "We can see that the scores for precision, recall, f1-score and accuracy are not good whatsoever. This is to be expected because we are making predictions without doing any training yet."
      ]
    },
    {
      "cell_type": "markdown",
      "metadata": {
        "id": "aQtGZ2Z-2uEi"
      },
      "source": [
        "### Gradient Descent Implementation"
      ]
    },
    {
      "cell_type": "markdown",
      "metadata": {
        "id": "UAHeu3Y0JPFI"
      },
      "source": [
        "Now its time to implement gradient descent:"
      ]
    },
    {
      "cell_type": "code",
      "execution_count": 19,
      "metadata": {
        "colab": {
          "base_uri": "https://localhost:8080/"
        },
        "id": "pLJ-A6FtMldd",
        "outputId": "93ad341d-f5fc-408e-acf4-4b5aa96f78f6"
      },
      "outputs": [
        {
          "output_type": "stream",
          "name": "stdout",
          "text": [
            "Epoch 1/15\n",
            "\u001b[1m200/200\u001b[0m \u001b[32m━━━━━━━━━━━━━━━━━━━━\u001b[0m\u001b[37m\u001b[0m \u001b[1m3s\u001b[0m 7ms/step - accuracy: 0.6119 - loss: 17.7836 - val_accuracy: 0.8451 - val_loss: 1.4409\n",
            "Epoch 2/15\n",
            "\u001b[1m200/200\u001b[0m \u001b[32m━━━━━━━━━━━━━━━━━━━━\u001b[0m\u001b[37m\u001b[0m \u001b[1m3s\u001b[0m 9ms/step - accuracy: 0.8698 - loss: 1.0894 - val_accuracy: 0.8702 - val_loss: 0.8631\n",
            "Epoch 3/15\n",
            "\u001b[1m200/200\u001b[0m \u001b[32m━━━━━━━━━━━━━━━━━━━━\u001b[0m\u001b[37m\u001b[0m \u001b[1m2s\u001b[0m 10ms/step - accuracy: 0.8912 - loss: 0.6298 - val_accuracy: 0.8959 - val_loss: 0.5842\n",
            "Epoch 4/15\n",
            "\u001b[1m200/200\u001b[0m \u001b[32m━━━━━━━━━━━━━━━━━━━━\u001b[0m\u001b[37m\u001b[0m \u001b[1m2s\u001b[0m 5ms/step - accuracy: 0.9143 - loss: 0.4180 - val_accuracy: 0.9078 - val_loss: 0.4847\n",
            "Epoch 5/15\n",
            "\u001b[1m200/200\u001b[0m \u001b[32m━━━━━━━━━━━━━━━━━━━━\u001b[0m\u001b[37m\u001b[0m \u001b[1m1s\u001b[0m 6ms/step - accuracy: 0.9275 - loss: 0.3095 - val_accuracy: 0.9148 - val_loss: 0.4225\n",
            "Epoch 6/15\n",
            "\u001b[1m200/200\u001b[0m \u001b[32m━━━━━━━━━━━━━━━━━━━━\u001b[0m\u001b[37m\u001b[0m \u001b[1m1s\u001b[0m 6ms/step - accuracy: 0.9373 - loss: 0.2494 - val_accuracy: 0.9128 - val_loss: 0.4304\n",
            "Epoch 7/15\n",
            "\u001b[1m200/200\u001b[0m \u001b[32m━━━━━━━━━━━━━━━━━━━━\u001b[0m\u001b[37m\u001b[0m \u001b[1m1s\u001b[0m 6ms/step - accuracy: 0.9428 - loss: 0.2205 - val_accuracy: 0.9207 - val_loss: 0.3954\n",
            "Epoch 8/15\n",
            "\u001b[1m200/200\u001b[0m \u001b[32m━━━━━━━━━━━━━━━━━━━━\u001b[0m\u001b[37m\u001b[0m \u001b[1m1s\u001b[0m 6ms/step - accuracy: 0.9477 - loss: 0.1924 - val_accuracy: 0.9303 - val_loss: 0.3396\n",
            "Epoch 9/15\n",
            "\u001b[1m200/200\u001b[0m \u001b[32m━━━━━━━━━━━━━━━━━━━━\u001b[0m\u001b[37m\u001b[0m \u001b[1m1s\u001b[0m 6ms/step - accuracy: 0.9528 - loss: 0.1723 - val_accuracy: 0.9290 - val_loss: 0.3310\n",
            "Epoch 10/15\n",
            "\u001b[1m200/200\u001b[0m \u001b[32m━━━━━━━━━━━━━━━━━━━━\u001b[0m\u001b[37m\u001b[0m \u001b[1m1s\u001b[0m 6ms/step - accuracy: 0.9593 - loss: 0.1420 - val_accuracy: 0.9270 - val_loss: 0.3493\n",
            "Epoch 11/15\n",
            "\u001b[1m200/200\u001b[0m \u001b[32m━━━━━━━━━━━━━━━━━━━━\u001b[0m\u001b[37m\u001b[0m \u001b[1m1s\u001b[0m 7ms/step - accuracy: 0.9583 - loss: 0.1475 - val_accuracy: 0.9298 - val_loss: 0.3281\n",
            "Epoch 12/15\n",
            "\u001b[1m200/200\u001b[0m \u001b[32m━━━━━━━━━━━━━━━━━━━━\u001b[0m\u001b[37m\u001b[0m \u001b[1m3s\u001b[0m 15ms/step - accuracy: 0.9607 - loss: 0.1277 - val_accuracy: 0.9372 - val_loss: 0.3116\n",
            "Epoch 13/15\n",
            "\u001b[1m200/200\u001b[0m \u001b[32m━━━━━━━━━━━━━━━━━━━━\u001b[0m\u001b[37m\u001b[0m \u001b[1m4s\u001b[0m 7ms/step - accuracy: 0.9636 - loss: 0.1260 - val_accuracy: 0.9399 - val_loss: 0.3199\n",
            "Epoch 14/15\n",
            "\u001b[1m200/200\u001b[0m \u001b[32m━━━━━━━━━━━━━━━━━━━━\u001b[0m\u001b[37m\u001b[0m \u001b[1m1s\u001b[0m 6ms/step - accuracy: 0.9661 - loss: 0.1172 - val_accuracy: 0.9401 - val_loss: 0.3004\n",
            "Epoch 15/15\n",
            "\u001b[1m200/200\u001b[0m \u001b[32m━━━━━━━━━━━━━━━━━━━━\u001b[0m\u001b[37m\u001b[0m \u001b[1m1s\u001b[0m 5ms/step - accuracy: 0.9683 - loss: 0.1083 - val_accuracy: 0.9371 - val_loss: 0.3251\n"
          ]
        }
      ],
      "source": [
        "# Train the model\n",
        "losses = model.fit(train_X_split, train_y_split,\n",
        "                   validation_data=(dev_X, dev_y),\n",
        "                   batch_size=256,\n",
        "                   epochs=15,\n",
        "                   )"
      ]
    },
    {
      "cell_type": "markdown",
      "metadata": {
        "id": "kAR-7u7WNZZ8"
      },
      "source": [
        "We can print the loss calculations as the decrease throughout the epochs, resulting in the final computation of the loss function:"
      ]
    },
    {
      "cell_type": "code",
      "execution_count": 20,
      "metadata": {
        "colab": {
          "base_uri": "https://localhost:8080/"
        },
        "id": "2N4I8-UlNgOh",
        "outputId": "ae8746d7-dd19-4206-a6d5-dfab5cd41e64"
      },
      "outputs": [
        {
          "output_type": "stream",
          "name": "stdout",
          "text": [
            "Array of losses [6.14089298248291, 0.9773024916648865, 0.5853509306907654, 0.4135166108608246, 0.3173213601112366, 0.2600937485694885, 0.23022332787513733, 0.19346584379673004, 0.1694423258304596, 0.1544092446565628, 0.14570283889770508, 0.13265559077262878, 0.12797583639621735, 0.12361510097980499, 0.11371169239282608]\n",
            "Final loss value: 0.11371169239282608\n"
          ]
        }
      ],
      "source": [
        "# Printing the losses calculated throughout training\n",
        "print(f\"Array of losses {losses.history['loss']}\")\n",
        "print(f\"Final loss value: {losses.history['loss'][-1]}\")"
      ]
    },
    {
      "cell_type": "markdown",
      "metadata": {
        "id": "RnxSxnxNOuhW"
      },
      "source": [
        "### Experimentation"
      ]
    },
    {
      "cell_type": "markdown",
      "metadata": {
        "id": "RYleOQV8PE4T"
      },
      "source": [
        "#### Different optimization algorithms"
      ]
    },
    {
      "cell_type": "markdown",
      "metadata": {
        "id": "6oddUbyQPfqG"
      },
      "source": [
        "Although I used the adam optimizer in my original implementation, I simply assumed it would be the best performing since its includes the characteristics of both Momentum and RMSProp. However, it is worth testing the network with the other two optimizers to see if they produce better results."
      ]
    },
    {
      "cell_type": "code",
      "execution_count": 21,
      "metadata": {
        "colab": {
          "base_uri": "https://localhost:8080/"
        },
        "id": "3w5V6JwNQYAC",
        "outputId": "884885ca-61bb-4665-bc56-823a28513b69"
      },
      "outputs": [
        {
          "output_type": "stream",
          "name": "stdout",
          "text": [
            "Optimizer: Adam\n",
            "Test Accuracy: 0.9608\n",
            "Test Loss: 0.1638\n",
            "\u001b[1m282/282\u001b[0m \u001b[32m━━━━━━━━━━━━━━━━━━━━\u001b[0m\u001b[37m\u001b[0m \u001b[1m0s\u001b[0m 2ms/step\n",
            "Classification Report for Adam:\n",
            "              precision    recall  f1-score   support\n",
            "\n",
            "           0       0.98      0.98      0.98       891\n",
            "           1       0.98      0.99      0.98       991\n",
            "           2       0.94      0.95      0.95       896\n",
            "           3       0.94      0.96      0.95       904\n",
            "           4       0.94      0.98      0.96       872\n",
            "           5       0.97      0.95      0.96       827\n",
            "           6       0.99      0.95      0.97       878\n",
            "           7       0.95      0.98      0.96       963\n",
            "           8       0.97      0.94      0.95       865\n",
            "           9       0.96      0.92      0.94       913\n",
            "\n",
            "    accuracy                           0.96      9000\n",
            "   macro avg       0.96      0.96      0.96      9000\n",
            "weighted avg       0.96      0.96      0.96      9000\n",
            "\n",
            "Optimizer: Momentum\n",
            "Test Accuracy: 0.1101\n",
            "Test Loss: 2.3017\n",
            "\u001b[1m282/282\u001b[0m \u001b[32m━━━━━━━━━━━━━━━━━━━━\u001b[0m\u001b[37m\u001b[0m \u001b[1m0s\u001b[0m 2ms/step\n",
            "Classification Report for Momentum:\n",
            "              precision    recall  f1-score   support\n",
            "\n",
            "           0       0.00      0.00      0.00       891\n",
            "           1       0.11      1.00      0.20       991\n",
            "           2       0.00      0.00      0.00       896\n",
            "           3       0.00      0.00      0.00       904\n",
            "           4       0.00      0.00      0.00       872\n",
            "           5       0.00      0.00      0.00       827\n",
            "           6       0.00      0.00      0.00       878\n",
            "           7       0.00      0.00      0.00       963\n",
            "           8       0.00      0.00      0.00       865\n",
            "           9       0.00      0.00      0.00       913\n",
            "\n",
            "    accuracy                           0.11      9000\n",
            "   macro avg       0.01      0.10      0.02      9000\n",
            "weighted avg       0.01      0.11      0.02      9000\n",
            "\n"
          ]
        },
        {
          "output_type": "stream",
          "name": "stderr",
          "text": [
            "/usr/local/lib/python3.11/dist-packages/sklearn/metrics/_classification.py:1565: UndefinedMetricWarning: Precision is ill-defined and being set to 0.0 in labels with no predicted samples. Use `zero_division` parameter to control this behavior.\n",
            "  _warn_prf(average, modifier, f\"{metric.capitalize()} is\", len(result))\n",
            "/usr/local/lib/python3.11/dist-packages/sklearn/metrics/_classification.py:1565: UndefinedMetricWarning: Precision is ill-defined and being set to 0.0 in labels with no predicted samples. Use `zero_division` parameter to control this behavior.\n",
            "  _warn_prf(average, modifier, f\"{metric.capitalize()} is\", len(result))\n",
            "/usr/local/lib/python3.11/dist-packages/sklearn/metrics/_classification.py:1565: UndefinedMetricWarning: Precision is ill-defined and being set to 0.0 in labels with no predicted samples. Use `zero_division` parameter to control this behavior.\n",
            "  _warn_prf(average, modifier, f\"{metric.capitalize()} is\", len(result))\n"
          ]
        },
        {
          "output_type": "stream",
          "name": "stdout",
          "text": [
            "Optimizer: RMSProp\n",
            "Test Accuracy: 0.9471\n",
            "Test Loss: 0.3387\n",
            "\u001b[1m282/282\u001b[0m \u001b[32m━━━━━━━━━━━━━━━━━━━━\u001b[0m\u001b[37m\u001b[0m \u001b[1m0s\u001b[0m 1ms/step\n",
            "Classification Report for RMSProp:\n",
            "              precision    recall  f1-score   support\n",
            "\n",
            "           0       0.97      0.95      0.96       891\n",
            "           1       0.98      0.96      0.97       991\n",
            "           2       0.93      0.96      0.95       896\n",
            "           3       0.94      0.94      0.94       904\n",
            "           4       0.99      0.92      0.95       872\n",
            "           5       0.96      0.91      0.93       827\n",
            "           6       0.95      0.97      0.96       878\n",
            "           7       0.96      0.96      0.96       963\n",
            "           8       0.84      0.96      0.90       865\n",
            "           9       0.96      0.92      0.94       913\n",
            "\n",
            "    accuracy                           0.95      9000\n",
            "   macro avg       0.95      0.95      0.95      9000\n",
            "weighted avg       0.95      0.95      0.95      9000\n",
            "\n"
          ]
        }
      ],
      "source": [
        "# Function used to test Momentum, RMSProp and Adam optimizers\n",
        "def test_optimizers(train_X, train_y, test_X, test_y):\n",
        "    # Create optimizer objects and store their names\n",
        "    optimizers = [tf.keras.optimizers.Adam(),\n",
        "                  tf.keras.optimizers.SGD(momentum=0.9),\n",
        "                  tf.keras.optimizers.RMSprop()]\n",
        "    optimizer_names = ['Adam', 'Momentum', 'RMSProp']\n",
        "\n",
        "    # Define the shape of the input data\n",
        "    input_shape = (train_X.shape[1],)\n",
        "\n",
        "    # Train and evaluate each optimizer\n",
        "    for optimizer, name in zip(optimizers, optimizer_names):\n",
        "        # Initialize a new model instance for each optimizer\n",
        "        model = tf.keras.Sequential([\n",
        "            tf.keras.Input(shape=input_shape),\n",
        "            tf.keras.layers.Dense(units=64, activation='relu'),\n",
        "            tf.keras.layers.Dense(units=64, activation='relu'),\n",
        "            tf.keras.layers.Dense(units=10, activation='softmax')\n",
        "        ])\n",
        "\n",
        "        # Compile the model with the current optimizer\n",
        "        model.compile(optimizer=optimizer, loss='sparse_categorical_crossentropy', metrics=['accuracy'])\n",
        "\n",
        "        # Train the model\n",
        "        model.fit(train_X, train_y, epochs=10, batch_size=32, verbose=0)\n",
        "\n",
        "        # Evaluate the model on the test set\n",
        "        test_loss, test_accuracy = model.evaluate(test_X, test_y, verbose=0)\n",
        "        print(f\"Optimizer: {name}\")\n",
        "        print(f\"Test Accuracy: {test_accuracy:.4f}\")\n",
        "        print(f\"Test Loss: {test_loss:.4f}\")\n",
        "\n",
        "        # Generate predictions\n",
        "        predictions = model.predict(test_X)\n",
        "        predicted_classes = predictions.argmax(axis=1)\n",
        "\n",
        "        # Classification report\n",
        "        print(f\"Classification Report for {name}:\")\n",
        "        print(classification_report(test_y, predicted_classes))\n",
        "\n",
        "# Run the function\n",
        "test_optimizers(train_X_split, train_y_split, dev_X, dev_y)"
      ]
    },
    {
      "cell_type": "markdown",
      "metadata": {
        "id": "aQFa2qrKVT1h"
      },
      "source": [
        "The results indicate that the model performed best with Adam and RMSProp optimizers, both achieving high test accuracy and low test loss with consistently strong classification metrics across all classes. In contrast, using the Momentum optimizer resulted in extremely poor performance, with very low accuracy and high loss, suggesting that it failed to learn effectively—likely due to suboptimal hyperparameters. Overall, these findings suggest that for this MNIST classification task, Adam and RMSProp are much more effective than Momentum.\n",
        "\n",
        "For my final implementation, I will continue to use Adam as it has all the functionality of RMSProp with additional functionality. Additionally, Adam's added complexity does not seem to be negatively impacting the training time of the network."
      ]
    },
    {
      "cell_type": "markdown",
      "metadata": {
        "id": "BGEzS6ktPLV1"
      },
      "source": [
        "#### Different numbers of hidden layers"
      ]
    },
    {
      "cell_type": "markdown",
      "source": [
        "I also wanted to test different numbers of hidden layers to see if performance could be improved. With more hidden layers, more complex relationships can be captured by the model, however, the risk of overfitting becomes greater. The following is the code I used to test different hidden layer structures."
      ],
      "metadata": {
        "id": "UW4KBWNe4x3l"
      }
    },
    {
      "cell_type": "code",
      "execution_count": 22,
      "metadata": {
        "id": "p58QDD7HWGJc",
        "colab": {
          "base_uri": "https://localhost:8080/"
        },
        "outputId": "977311c7-2cb1-4649-b6f8-95fc58bb19fa"
      },
      "outputs": [
        {
          "output_type": "stream",
          "name": "stdout",
          "text": [
            "\u001b[1m282/282\u001b[0m \u001b[32m━━━━━━━━━━━━━━━━━━━━\u001b[0m\u001b[37m\u001b[0m \u001b[1m1s\u001b[0m 3ms/step - accuracy: 0.9329 - loss: 0.2688\n",
            "Number of Hidden Layers: 1\n",
            "Test Accuracy: 0.9327\n",
            "Test Loss: 0.2764\n",
            "\u001b[1m282/282\u001b[0m \u001b[32m━━━━━━━━━━━━━━━━━━━━\u001b[0m\u001b[37m\u001b[0m \u001b[1m1s\u001b[0m 2ms/step\n",
            "Classification Report for 1 Hidden Layers:\n",
            "              precision    recall  f1-score   support\n",
            "\n",
            "           0       0.98      0.95      0.96       891\n",
            "           1       0.98      0.97      0.97       991\n",
            "           2       0.92      0.92      0.92       896\n",
            "           3       0.93      0.89      0.91       904\n",
            "           4       0.97      0.92      0.94       872\n",
            "           5       0.97      0.87      0.92       827\n",
            "           6       0.95      0.96      0.96       878\n",
            "           7       0.97      0.93      0.95       963\n",
            "           8       0.80      0.94      0.87       865\n",
            "           9       0.88      0.96      0.92       913\n",
            "\n",
            "    accuracy                           0.93      9000\n",
            "   macro avg       0.94      0.93      0.93      9000\n",
            "weighted avg       0.94      0.93      0.93      9000\n",
            "\n",
            "\u001b[1m282/282\u001b[0m \u001b[32m━━━━━━━━━━━━━━━━━━━━\u001b[0m\u001b[37m\u001b[0m \u001b[1m1s\u001b[0m 2ms/step - accuracy: 0.9541 - loss: 0.1790\n",
            "Number of Hidden Layers: 2\n",
            "Test Accuracy: 0.9580\n",
            "Test Loss: 0.1688\n",
            "\u001b[1m282/282\u001b[0m \u001b[32m━━━━━━━━━━━━━━━━━━━━\u001b[0m\u001b[37m\u001b[0m \u001b[1m0s\u001b[0m 2ms/step\n",
            "Classification Report for 2 Hidden Layers:\n",
            "              precision    recall  f1-score   support\n",
            "\n",
            "           0       0.99      0.96      0.98       891\n",
            "           1       0.99      0.99      0.99       991\n",
            "           2       0.98      0.94      0.96       896\n",
            "           3       0.93      0.96      0.95       904\n",
            "           4       0.93      0.98      0.95       872\n",
            "           5       0.98      0.92      0.95       827\n",
            "           6       0.99      0.96      0.98       878\n",
            "           7       0.97      0.96      0.97       963\n",
            "           8       0.90      0.96      0.93       865\n",
            "           9       0.94      0.94      0.94       913\n",
            "\n",
            "    accuracy                           0.96      9000\n",
            "   macro avg       0.96      0.96      0.96      9000\n",
            "weighted avg       0.96      0.96      0.96      9000\n",
            "\n",
            "\u001b[1m282/282\u001b[0m \u001b[32m━━━━━━━━━━━━━━━━━━━━\u001b[0m\u001b[37m\u001b[0m \u001b[1m1s\u001b[0m 2ms/step - accuracy: 0.9620 - loss: 0.1514\n",
            "Number of Hidden Layers: 3\n",
            "Test Accuracy: 0.9616\n",
            "Test Loss: 0.1543\n",
            "\u001b[1m282/282\u001b[0m \u001b[32m━━━━━━━━━━━━━━━━━━━━\u001b[0m\u001b[37m\u001b[0m \u001b[1m1s\u001b[0m 2ms/step\n",
            "Classification Report for 3 Hidden Layers:\n",
            "              precision    recall  f1-score   support\n",
            "\n",
            "           0       0.99      0.96      0.97       891\n",
            "           1       0.99      0.99      0.99       991\n",
            "           2       0.95      0.95      0.95       896\n",
            "           3       0.96      0.94      0.95       904\n",
            "           4       0.95      0.97      0.96       872\n",
            "           5       0.95      0.97      0.96       827\n",
            "           6       0.98      0.97      0.98       878\n",
            "           7       0.95      0.98      0.97       963\n",
            "           8       0.96      0.92      0.94       865\n",
            "           9       0.93      0.96      0.94       913\n",
            "\n",
            "    accuracy                           0.96      9000\n",
            "   macro avg       0.96      0.96      0.96      9000\n",
            "weighted avg       0.96      0.96      0.96      9000\n",
            "\n"
          ]
        }
      ],
      "source": [
        "# Function used to test different numbers of hidden layers\n",
        "def test_layers(train_X, train_y, test_X, test_y):\n",
        "    input_shape = (train_X.shape[1],)\n",
        "    layers = [1, 2, 3]\n",
        "\n",
        "    for layer_count in layers:\n",
        "        # Initialize a new model\n",
        "        model = tf.keras.Sequential()\n",
        "        model.add(tf.keras.Input(shape=input_shape))\n",
        "\n",
        "        # Add the specified number of hidden layers\n",
        "        for _ in range(layer_count):\n",
        "            model.add(tf.keras.layers.Dense(units=64, activation='relu'))\n",
        "\n",
        "        # Output layer\n",
        "        model.add(tf.keras.layers.Dense(units=10, activation='softmax'))\n",
        "\n",
        "        # Compile the model\n",
        "        model.compile(optimizer='adam', loss='sparse_categorical_crossentropy', metrics=['accuracy'])\n",
        "\n",
        "        # Train the model\n",
        "        model.fit(train_X, train_y, epochs=10, batch_size=32, verbose=0)\n",
        "\n",
        "        # Evaluate the model on the test set\n",
        "        test_loss, test_accuracy = model.evaluate(test_X, test_y, verbose=1)\n",
        "        print(f\"Number of Hidden Layers: {layer_count}\")\n",
        "        print(f\"Test Accuracy: {test_accuracy:.4f}\")\n",
        "        print(f\"Test Loss: {test_loss:.4f}\")\n",
        "\n",
        "        # Generate predictions\n",
        "        predictions = model.predict(test_X)\n",
        "        predicted_classes = predictions.argmax(axis=1)\n",
        "\n",
        "        # Classification report\n",
        "        print(f\"Classification Report for {layer_count} Hidden Layers:\")\n",
        "        print(classification_report(test_y, predicted_classes))\n",
        "\n",
        "# Run the function\n",
        "test_layers(train_X_split, train_y_split, dev_X, dev_y)"
      ]
    },
    {
      "cell_type": "markdown",
      "source": [
        "Based on our tests, the model with three hidden layers achieved the best overall performance, yielding higher test accuracy and lower test loss than the one- and two-hidden-layer configurations. The classification report for the three-hidden-layer model also showed consistently strong performance across all digit classes, suggesting that the extra depth helped capture more complex patterns and improved generalization."
      ],
      "metadata": {
        "id": "RKaDIOXvcaHs"
      }
    },
    {
      "cell_type": "markdown",
      "metadata": {
        "id": "gwBp_mgCPPBJ"
      },
      "source": [
        "#### Normalizing pixel intensities"
      ]
    },
    {
      "cell_type": "markdown",
      "source": [
        "As I did in Part 1, I normalized the pixel intensity values to a range between 0 and 1. In theory, this normalization should speed up the training process and yield better results by ensuring that the input features are on a similar scale. However, for training on MNIST, we can perform an experiment to determine whether normalization actually makes a significant impact on performance."
      ],
      "metadata": {
        "id": "iZkZC739cq9p"
      }
    },
    {
      "cell_type": "code",
      "source": [
        "# Helper function to build and compile the model\n",
        "def create_model(input_shape):\n",
        "    model = tf.keras.Sequential([\n",
        "        tf.keras.layers.Input(shape=input_shape),\n",
        "        tf.keras.layers.Dense(units=64, activation='relu'),\n",
        "        tf.keras.layers.Dense(units=64, activation='relu'),\n",
        "        tf.keras.layers.Dense(units=10, activation='softmax')\n",
        "    ])\n",
        "    model.compile(optimizer='adam',\n",
        "                  loss='sparse_categorical_crossentropy',\n",
        "                  metrics=['accuracy'])\n",
        "    return model\n",
        "\n",
        "# Defining the input shape\n",
        "input_shape = (train_X_split.shape[1],)\n",
        "\n",
        "# Train on unnormalized data\n",
        "print(\"Training on unnormalized data:\")\n",
        "model1 = create_model(input_shape)\n",
        "model1.fit(train_X_split, train_y_split, epochs=10, batch_size=32, verbose=0)\n",
        "test_loss, test_accuracy = model1.evaluate(dev_X, dev_y, verbose=1)\n",
        "print(f\"Test Accuracy: {test_accuracy:.4f}\")\n",
        "print(f\"Test Loss: {test_loss:.4f}\")\n",
        "predictions = model1.predict(dev_X)\n",
        "predicted_classes = predictions.argmax(axis=1)\n",
        "print(\"Classification Report for unnormalized data:\")\n",
        "print(classification_report(dev_y, predicted_classes))\n",
        "\n",
        "# Train on normalized data (pixel values scaled to [0,1])\n",
        "print(\"\\nTraining on normalized data:\")\n",
        "X_train_norm = train_X_split / 255.0\n",
        "X_dev_norm = dev_X / 255.0\n",
        "model2 = create_model(input_shape)\n",
        "model2.fit(X_train_norm, train_y_split, epochs=10, batch_size=32, verbose=0)\n",
        "test_loss, test_accuracy = model2.evaluate(X_dev_norm, dev_y, verbose=1)\n",
        "print(f\"Test Accuracy: {test_accuracy:.4f}\")\n",
        "print(f\"Test Loss: {test_loss:.4f}\")\n",
        "predictions = model2.predict(X_dev_norm)\n",
        "predicted_classes = predictions.argmax(axis=1)\n",
        "print(\"Classification Report for normalized data:\")\n",
        "print(classification_report(dev_y, predicted_classes))\n",
        "\n"
      ],
      "metadata": {
        "id": "ciMSeUI3c5wn",
        "colab": {
          "base_uri": "https://localhost:8080/"
        },
        "outputId": "5f8f5b98-7da8-4097-f478-10a7cc1d291b"
      },
      "execution_count": 26,
      "outputs": [
        {
          "output_type": "stream",
          "name": "stdout",
          "text": [
            "Training on unnormalized data:\n",
            "\u001b[1m282/282\u001b[0m \u001b[32m━━━━━━━━━━━━━━━━━━━━\u001b[0m\u001b[37m\u001b[0m \u001b[1m1s\u001b[0m 3ms/step - accuracy: 0.9630 - loss: 0.1670\n",
            "Test Accuracy: 0.9650\n",
            "Test Loss: 0.1486\n",
            "\u001b[1m282/282\u001b[0m \u001b[32m━━━━━━━━━━━━━━━━━━━━\u001b[0m\u001b[37m\u001b[0m \u001b[1m0s\u001b[0m 1ms/step\n",
            "Classification Report for unnormalized data:\n",
            "              precision    recall  f1-score   support\n",
            "\n",
            "           0       0.99      0.97      0.98       891\n",
            "           1       0.99      0.98      0.99       991\n",
            "           2       0.96      0.97      0.96       896\n",
            "           3       0.96      0.96      0.96       904\n",
            "           4       0.95      0.98      0.96       872\n",
            "           5       0.97      0.95      0.96       827\n",
            "           6       0.97      0.97      0.97       878\n",
            "           7       0.98      0.96      0.97       963\n",
            "           8       0.93      0.95      0.94       865\n",
            "           9       0.95      0.95      0.95       913\n",
            "\n",
            "    accuracy                           0.96      9000\n",
            "   macro avg       0.96      0.96      0.96      9000\n",
            "weighted avg       0.97      0.96      0.97      9000\n",
            "\n",
            "\n",
            "Training on normalized data:\n",
            "\u001b[1m282/282\u001b[0m \u001b[32m━━━━━━━━━━━━━━━━━━━━\u001b[0m\u001b[37m\u001b[0m \u001b[1m1s\u001b[0m 3ms/step - accuracy: 0.9729 - loss: 0.0997\n",
            "Test Accuracy: 0.9744\n",
            "Test Loss: 0.0972\n",
            "\u001b[1m282/282\u001b[0m \u001b[32m━━━━━━━━━━━━━━━━━━━━\u001b[0m\u001b[37m\u001b[0m \u001b[1m1s\u001b[0m 2ms/step\n",
            "Classification Report for normalized data:\n",
            "              precision    recall  f1-score   support\n",
            "\n",
            "           0       0.98      0.98      0.98       891\n",
            "           1       0.99      0.99      0.99       991\n",
            "           2       0.98      0.97      0.97       896\n",
            "           3       0.98      0.95      0.96       904\n",
            "           4       0.98      0.98      0.98       872\n",
            "           5       0.94      0.98      0.96       827\n",
            "           6       0.98      0.99      0.98       878\n",
            "           7       0.98      0.98      0.98       963\n",
            "           8       0.97      0.96      0.97       865\n",
            "           9       0.96      0.97      0.96       913\n",
            "\n",
            "    accuracy                           0.97      9000\n",
            "   macro avg       0.97      0.97      0.97      9000\n",
            "weighted avg       0.97      0.97      0.97      9000\n",
            "\n"
          ]
        }
      ]
    },
    {
      "cell_type": "markdown",
      "source": [
        "From the experiment we can conclude that the model trained on the normalized data performed better. Normalizing the pixel values led to higher test accuracy, lower test loss, and improved classification metrics (precision, recall, and F1-scores) across all classes compared to training on unnormalized data."
      ],
      "metadata": {
        "id": "vm2l8P9Ef0Ky"
      }
    },
    {
      "cell_type": "markdown",
      "metadata": {
        "id": "eBWQ5JIY22j2"
      },
      "source": [
        "### Presenting the Final Results"
      ]
    },
    {
      "cell_type": "markdown",
      "source": [
        "After all the experimentation, we can combine the best performing characteristics and test the network on the test dataset. The following neural network will have:\n",
        "\n",
        "* 3 hidden layers\n",
        "* Adam optimization algorithm\n",
        "* Normalizing the data\n",
        "\n",
        "Finally we can move on from the dev dataset and see how the model performs on new data!"
      ],
      "metadata": {
        "id": "u1ISTWFmlQV0"
      }
    },
    {
      "cell_type": "code",
      "source": [
        "# Normalizing the data\n",
        "X_tr = train_X_split / 255.0\n",
        "X_ts = test_X / 255.0\n",
        "\n",
        "# Initialize a new model instance for each optimizer\n",
        "model = tf.keras.Sequential([\n",
        "    tf.keras.layers.Input(shape=input_shape),\n",
        "    tf.keras.layers.Dense(units=64, activation='relu'),\n",
        "    tf.keras.layers.Dense(units=64, activation='relu'),\n",
        "    tf.keras.layers.Dense(units=64, activation='relu'),\n",
        "    tf.keras.layers.Dense(units=10, activation='softmax')\n",
        "])\n",
        "\n",
        "# Compile the model with the current optimizer\n",
        "model.compile(optimizer='adam', loss='sparse_categorical_crossentropy', metrics=['accuracy'])\n",
        "\n",
        "# Train the model\n",
        "model.fit(X_tr, train_y_split, epochs=10, batch_size=32, verbose=1)\n",
        "\n",
        "# Evaluate on the test data\n",
        "test_loss, test_accuracy = model.evaluate(X_ts, test_y, verbose=1)\n",
        "predictions = model.predict(X_ts)\n",
        "predicted_classes = predictions.argmax(axis=1)\n",
        "print(\"Classification Report:\")\n",
        "print(classification_report(test_y, predicted_classes))"
      ],
      "metadata": {
        "id": "GYpOVA8VlrfX",
        "colab": {
          "base_uri": "https://localhost:8080/"
        },
        "outputId": "8e954184-e559-4680-a80d-814ea4d801f5"
      },
      "execution_count": 25,
      "outputs": [
        {
          "output_type": "stream",
          "name": "stdout",
          "text": [
            "Epoch 1/10\n",
            "\u001b[1m1594/1594\u001b[0m \u001b[32m━━━━━━━━━━━━━━━━━━━━\u001b[0m\u001b[37m\u001b[0m \u001b[1m8s\u001b[0m 4ms/step - accuracy: 0.8423 - loss: 0.5152\n",
            "Epoch 2/10\n",
            "\u001b[1m1594/1594\u001b[0m \u001b[32m━━━━━━━━━━━━━━━━━━━━\u001b[0m\u001b[37m\u001b[0m \u001b[1m5s\u001b[0m 3ms/step - accuracy: 0.9579 - loss: 0.1362\n",
            "Epoch 3/10\n",
            "\u001b[1m1594/1594\u001b[0m \u001b[32m━━━━━━━━━━━━━━━━━━━━\u001b[0m\u001b[37m\u001b[0m \u001b[1m6s\u001b[0m 4ms/step - accuracy: 0.9697 - loss: 0.0952\n",
            "Epoch 4/10\n",
            "\u001b[1m1594/1594\u001b[0m \u001b[32m━━━━━━━━━━━━━━━━━━━━\u001b[0m\u001b[37m\u001b[0m \u001b[1m5s\u001b[0m 3ms/step - accuracy: 0.9774 - loss: 0.0733\n",
            "Epoch 5/10\n",
            "\u001b[1m1594/1594\u001b[0m \u001b[32m━━━━━━━━━━━━━━━━━━━━\u001b[0m\u001b[37m\u001b[0m \u001b[1m5s\u001b[0m 3ms/step - accuracy: 0.9826 - loss: 0.0557\n",
            "Epoch 6/10\n",
            "\u001b[1m1594/1594\u001b[0m \u001b[32m━━━━━━━━━━━━━━━━━━━━\u001b[0m\u001b[37m\u001b[0m \u001b[1m7s\u001b[0m 4ms/step - accuracy: 0.9837 - loss: 0.0496\n",
            "Epoch 7/10\n",
            "\u001b[1m1594/1594\u001b[0m \u001b[32m━━━━━━━━━━━━━━━━━━━━\u001b[0m\u001b[37m\u001b[0m \u001b[1m9s\u001b[0m 3ms/step - accuracy: 0.9856 - loss: 0.0425\n",
            "Epoch 8/10\n",
            "\u001b[1m1594/1594\u001b[0m \u001b[32m━━━━━━━━━━━━━━━━━━━━\u001b[0m\u001b[37m\u001b[0m \u001b[1m6s\u001b[0m 4ms/step - accuracy: 0.9882 - loss: 0.0349\n",
            "Epoch 9/10\n",
            "\u001b[1m1594/1594\u001b[0m \u001b[32m━━━━━━━━━━━━━━━━━━━━\u001b[0m\u001b[37m\u001b[0m \u001b[1m5s\u001b[0m 3ms/step - accuracy: 0.9901 - loss: 0.0321\n",
            "Epoch 10/10\n",
            "\u001b[1m1594/1594\u001b[0m \u001b[32m━━━━━━━━━━━━━━━━━━━━\u001b[0m\u001b[37m\u001b[0m \u001b[1m6s\u001b[0m 4ms/step - accuracy: 0.9915 - loss: 0.0259\n",
            "\u001b[1m313/313\u001b[0m \u001b[32m━━━━━━━━━━━━━━━━━━━━\u001b[0m\u001b[37m\u001b[0m \u001b[1m1s\u001b[0m 2ms/step - accuracy: 0.9707 - loss: 0.1124\n",
            "\u001b[1m313/313\u001b[0m \u001b[32m━━━━━━━━━━━━━━━━━━━━\u001b[0m\u001b[37m\u001b[0m \u001b[1m1s\u001b[0m 2ms/step\n",
            "Classification Report:\n",
            "              precision    recall  f1-score   support\n",
            "\n",
            "           0       0.98      0.99      0.99       980\n",
            "           1       0.99      0.99      0.99      1135\n",
            "           2       0.98      0.97      0.97      1032\n",
            "           3       0.98      0.97      0.97      1010\n",
            "           4       0.97      0.97      0.97       982\n",
            "           5       0.98      0.97      0.97       892\n",
            "           6       0.97      0.99      0.98       958\n",
            "           7       0.96      0.99      0.97      1028\n",
            "           8       0.97      0.96      0.96       974\n",
            "           9       0.97      0.96      0.96      1009\n",
            "\n",
            "    accuracy                           0.97     10000\n",
            "   macro avg       0.97      0.97      0.97     10000\n",
            "weighted avg       0.98      0.97      0.97     10000\n",
            "\n"
          ]
        }
      ]
    },
    {
      "cell_type": "markdown",
      "source": [
        "Using the best hyperparameters, the resulting model achieved strong performance on the MNIST dataset, with approximately 97% accuracy and excellent precision, recall, and F1-scores across all classes. While the basic neural network proved to be an effective choice for this task, certain simplifications—such as flattening the 28x28 images—limit its ability to capture the spatial relationships between pixels. Advanced techniques, like convolutional neural networks, preserve the original image structure and can better exploit these spatial relationships, potentially leading to even greater performance improvements."
      ],
      "metadata": {
        "id": "cxd7pGKM6aHM"
      }
    },
    {
      "cell_type": "markdown",
      "source": [
        "# Statement About Use of Generative AI"
      ],
      "metadata": {
        "id": "aOj3uOnuB4zJ"
      }
    },
    {
      "cell_type": "markdown",
      "source": [
        "Throughout this project, I leveraged generative AI models to help refine the structure and grammar of my writing. I also used them to format some of my code for better readability and consulted them for guidance on which TensorFlow functions, and other functions to use before researching and implementing them myself. All content presented is my own, and any external sources referenced for this assignment are properly cited or linked where appropriate. I wasn't sure of the exact citation format for AI usage, so I felt this paragraph would suffice.\n",
        "\n",
        "I thoroughly enjoyed completing this assignment and deepening my understanding of so many new concepts!"
      ],
      "metadata": {
        "id": "3-D7nRHyCMfj"
      }
    }
  ],
  "metadata": {
    "colab": {
      "provenance": [],
      "authorship_tag": "ABX9TyOnRRpck6dO0oOQOUVI5bEL",
      "include_colab_link": true
    },
    "kernelspec": {
      "display_name": "Python 3",
      "name": "python3"
    },
    "language_info": {
      "name": "python"
    }
  },
  "nbformat": 4,
  "nbformat_minor": 0
}